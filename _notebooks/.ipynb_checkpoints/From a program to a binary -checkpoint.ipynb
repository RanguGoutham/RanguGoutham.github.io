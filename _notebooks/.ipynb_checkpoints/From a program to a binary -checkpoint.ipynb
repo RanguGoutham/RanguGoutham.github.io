{
 "cells": [
  {
   "cell_type": "markdown",
   "metadata": {},
   "source": [
    "## From a program to a binary \n",
    "There are two steps from a program towards an executable binary\n",
    "1. Compiling\n",
    "2. Linking"
   ]
  },
  {
   "cell_type": "markdown",
   "metadata": {},
   "source": [
    "## What does compiler do under the hood of the compilation process"
   ]
  },
  {
   "cell_type": "markdown",
   "metadata": {},
   "source": [
    "Compiler does four jobs in series to finally create an object file. \n",
    "step1 - Preprocessor\n",
    "1. Anything that has to do in english or test in the source file that a human can understand directly is done in the preprocessing. Preprocessors are directives that are taken before the actual compilaton. These directives start with \"#\" and are generally included on the top of the source file. Pre processor directive do many jobs which include file inclusion, conditional compilatin, macros etc. Comments in the code are removed in this stage of compilation.\n",
    "\n",
    "2. During file inclusion the preprocessor includes the source code from the header file into the source file.\n",
    "3. With macros the preprocessor can replace each macro with its definition\n",
    "\n",
    "step2 - Compilation\n",
    "1. \n"
   ]
  },
  {
   "cell_type": "code",
   "execution_count": null,
   "metadata": {},
   "outputs": [],
   "source": []
  }
 ],
 "metadata": {
  "kernelspec": {
   "display_name": "Python [conda env:pyt16] *",
   "language": "python",
   "name": "conda-env-pyt16-py"
  },
  "language_info": {
   "codemirror_mode": {
    "name": "ipython",
    "version": 3
   },
   "file_extension": ".py",
   "mimetype": "text/x-python",
   "name": "python",
   "nbconvert_exporter": "python",
   "pygments_lexer": "ipython3",
   "version": "3.8.5"
  }
 },
 "nbformat": 4,
 "nbformat_minor": 4
}
